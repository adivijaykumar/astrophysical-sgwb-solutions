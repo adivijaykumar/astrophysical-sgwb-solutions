{
 "cells": [
  {
   "cell_type": "code",
   "execution_count": 25,
   "metadata": {},
   "outputs": [],
   "source": [
    "import numpy as np\n",
    "import matplotlib.pyplot as plt\n",
    "import statistics\n",
    "import random\n",
    "import tqdm"
   ]
  },
  {
   "cell_type": "code",
   "execution_count": 21,
   "metadata": {},
   "outputs": [],
   "source": [
    "class DistributionError(Exception):\n",
    "    pass\n",
    "def SNR(distribution,T_array,extra_args=dict()):\n",
    "    '''\n",
    "    Function to calculate SNR v/s observation time T. \n",
    "    '''\n",
    "    Y_samples=1000 #No. of samples that we average over\n",
    "    if distribution==\"Constant\" or distribution=='constant':\n",
    "        h=extra_args['h']\n",
    "        Y_arrays=[]\n",
    "        for i in range(Y_samples):\n",
    "            Y=[]\n",
    "            n1=np.random.normal(0,1,len(T_array))\n",
    "            n2=np.random.normal(0,1,len(T_array))\n",
    "            for ii in range(len(T_array)):\n",
    "                if ii==0:\n",
    "                    Y.append((n1[ii]+h)*(n2[ii]+h))\n",
    "                else:\n",
    "                    Y.append(Y[-1]+(n1[ii]+h)*(n2[ii]+h))\n",
    "            Y_arrays.append(Y)\n",
    "    elif distribution==\"Gaussian\" or distribution=='gaussian':\n",
    "        hmean=extra_args['hmean']\n",
    "        hstdev=extra_args['hstdev']\n",
    "        Y_arrays=[]\n",
    "        for i in range(Y_samples):\n",
    "            Y=[]\n",
    "            n1=np.random.normal(0,1,len(T_array))\n",
    "            n2=np.random.normal(0,1,len(T_array))\n",
    "            ht=np.random.normal(hmean,hstdev,len(T_array))\n",
    "            for ii in range(len(T_array)):\n",
    "                if ii==0:\n",
    "                    Y.append((n1[ii]+ht[ii])*(n2[ii]+ht[ii]))\n",
    "                else:\n",
    "                    Y.append(Y[-1]+(n1[ii]+ht[ii])*(n2[ii]+ht[ii]))\n",
    "            Y_arrays.append(Y)\n",
    "    else:\n",
    "        raise DistributionError(\"Distribution not recognized\") \n",
    "    Y_arrays=np.array(Y_arrays)        \n",
    "    Average_Y=Y_arrays.mean(axis=0)\n",
    "    stdev_Y=Y_arrays.std(axis=0)\n",
    "    SNR=Average_Y/stdev_Y   \n",
    "    return SNR"
   ]
  },
  {
   "cell_type": "code",
   "execution_count": 22,
   "metadata": {},
   "outputs": [],
   "source": [
    "T_array=np.linspace(0,200000,200000)\n",
    "SNR_const_case = SNR('Constant',T_array,extra_args=dict(h=0.1),)"
   ]
  },
  {
   "cell_type": "code",
   "execution_count": 23,
   "metadata": {},
   "outputs": [],
   "source": [
    "SNR_Gaussian_case = SNR('Gaussian',T_array,extra_args=dict(hmean=0,hstdev=0.1),)"
   ]
  },
  {
   "cell_type": "code",
   "execution_count": 24,
   "metadata": {},
   "outputs": [
    {
     "data": {
      "image/png": "[encoded data removed]",
      "text/plain": [
       "<Figure size 432x288 with 1 Axes>"
      ]
     },
     "metadata": {
      "needs_background": "light"
     },
     "output_type": "display_data"
    }
   ],
   "source": [
    "T_array=np.linspace(0,200000,200000)\n",
    "delta_t=2e-4\n",
    "T_array=T_array*delta_t\n",
    "plt.plot(T_array,SNR_const_case,label='SNR for constant case')\n",
    "plt.plot(T_array,SNR_Gaussian_case,label='SNR for Gaussian case')\n",
    "plt.xlabel('T (s)')\n",
    "plt.ylabel('SNR')\n",
    "plt.legend(loc='best')\n",
    "plt.grid()"
   ]
  }
 ],
 "metadata": {
  "kernelspec": {
   "display_name": "Python 3",
   "language": "python",
   "name": "python3"
  },
  "language_info": {
   "codemirror_mode": {
    "name": "ipython",
    "version": 3
   },
   "file_extension": ".py",
   "mimetype": "text/x-python",
   "name": "python",
   "nbconvert_exporter": "python",
   "pygments_lexer": "ipython3",
   "version": "3.8.5"
  }
 },
 "nbformat": 4,
 "nbformat_minor": 4
}
